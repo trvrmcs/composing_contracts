{
 "cells": [
  {
   "cell_type": "markdown",
   "metadata": {},
   "source": [
    "# Contract definition.\n",
    "Based on ideas from Peyton-Jones & Eber"
   ]
  },
  {
   "cell_type": "code",
   "execution_count": 1,
   "metadata": {},
   "outputs": [],
   "source": [
    "from typing import TypeVar, Generic\n",
    "from adt import adt, Case\n",
    "from enum import Enum\n",
    "from decimal import Decimal\n",
    "import datetime as dt\n",
    "import json"
   ]
  },
  {
   "cell_type": "markdown",
   "metadata": {},
   "source": [
    "```haskell\n",
    "european :: Date -> Contract -> Contract\n",
    "european t u = cWhen (at t) (u `cOr` zero)\n",
    "```"
   ]
  },
  {
   "cell_type": "markdown",
   "metadata": {},
   "source": []
  },
  {
   "cell_type": "code",
   "execution_count": 2,
   "metadata": {},
   "outputs": [],
   "source": [
    "T=TypeVar('T')\n",
    "\n",
    "\n",
    "@adt\n",
    "class Observable(Generic[T]):\n",
    "    def __repr__(self):\n",
    "        return f\"{self._key.name}({self._value})\"\n",
    "    CONST: Case[T]   # has a constant value at all points in time\n",
    "    DATE: Case       # has whatever date is passed\n",
    "    \n",
    "CONST=Observable.CONST"
   ]
  },
  {
   "cell_type": "code",
   "execution_count": 3,
   "metadata": {},
   "outputs": [
    {
     "data": {
      "text/plain": [
       "CONST(42)"
      ]
     },
     "execution_count": 3,
     "metadata": {},
     "output_type": "execute_result"
    }
   ],
   "source": [
    "CONST(42)"
   ]
  },
  {
   "cell_type": "code",
   "execution_count": 106,
   "metadata": {},
   "outputs": [],
   "source": [
    "class Asset(Enum):\n",
    "    def __repr__(self):\n",
    "        return self.value\n",
    "    BTC='BTC'\n",
    "    CAD='CAD'\n",
    "    USD='USD'\n",
    "\n",
    "BTC,CAD,USD=Asset"
   ]
  },
  {
   "cell_type": "code",
   "execution_count": 107,
   "metadata": {},
   "outputs": [
    {
     "data": {
      "text/plain": [
       "BTC"
      ]
     },
     "execution_count": 107,
     "metadata": {},
     "output_type": "execute_result"
    }
   ],
   "source": [
    "BTC"
   ]
  },
  {
   "cell_type": "code",
   "execution_count": 108,
   "metadata": {},
   "outputs": [],
   "source": [
    "@adt \n",
    "class Contract:\n",
    "    ZERO: Case\n",
    "    ONE: Case[Asset]\n",
    "    GIVE: Case[\"Contract\"]\n",
    "    AND: Case[\"Contract\",\"Contract\"]\n",
    "    OR: Case[\"Contract\",\"Contract\"]\n",
    "    CONDITION: Case[Observable[bool], \"Contract\",\"Contract\"]\n",
    "    SCALE: Case[Observable[Decimal],\"Contract\"]\n",
    "    WHEN: Case[dt.date,\"Contract\"]\n",
    "    \n",
    "ZERO = Contract.ZERO\n",
    "ONE = Contract.ONE\n",
    "GIVE = Contract.GIVE\n",
    "AND=Contract.AND\n",
    "OR=Contract.OR\n",
    "CONDITION=Contract.CONDITION\n",
    "SCALE=Contract.SCALE\n",
    "WHEN=Contract.WHEN\n",
    "\n",
    "\n",
    "def repr_contract(self):\n",
    "    name=self._key.name\n",
    "    value=self._value\n",
    "    if value is None:\n",
    "        return f\"{name}()\"\n",
    "    if isinstance(value,tuple):\n",
    "        return f\"{name}({','.join(repr(v) for v in value)})\"\n",
    "    return f\"{name}({repr(value)})\"\n",
    "Contract.__repr__=repr_contract"
   ]
  },
  {
   "cell_type": "code",
   "execution_count": 109,
   "metadata": {},
   "outputs": [],
   "source": [
    "z=ZERO()"
   ]
  },
  {
   "cell_type": "code",
   "execution_count": 110,
   "metadata": {},
   "outputs": [
    {
     "data": {
      "text/plain": [
       "ZERO()"
      ]
     },
     "execution_count": 110,
     "metadata": {},
     "output_type": "execute_result"
    }
   ],
   "source": [
    "z"
   ]
  },
  {
   "cell_type": "code",
   "execution_count": null,
   "metadata": {},
   "outputs": [],
   "source": []
  },
  {
   "cell_type": "code",
   "execution_count": null,
   "metadata": {},
   "outputs": [],
   "source": []
  },
  {
   "cell_type": "code",
   "execution_count": 111,
   "metadata": {},
   "outputs": [],
   "source": [
    "def observable_to_json(observable):\n",
    "    return observable.match(\n",
    "        const = lambda x: ['CONST',x],\n",
    "        date = lambda d: ['DATE',str(d)]\n",
    "    )\n",
    "\n",
    "def  __contract_to_json(contract):\n",
    "    return contract.match(\n",
    "        **{\n",
    "            'zero':lambda: ['ZERO'],\n",
    "            'one':lambda asset: ['ONE',asset.name],\n",
    "            'give':lambda c: ['GIVE',to_json(c)],\n",
    "            'and':lambda left, right: ['AND', to_json(left), to_json(right)],\n",
    "            'or':lambda left, right: ['OR',to_json(left), to_json(right)],\n",
    "            'condition': lambda obs, left,right: ['CONDITION',to_json(obs),to_json(left),to_json(right)],\n",
    "            'scale':lambda o,c: ['SCALE',to_json(o),to_json(c)],\n",
    "            'when':lambda d,c: ['WHEN',str(d), to_json(c)]\n",
    "        },\n",
    "    )\n",
    "\n",
    "def  contract_to_json(contract):\n",
    "    return contract.match(\n",
    "        ZERO=lambda: ['ZERO'],\n",
    "        ONE=lambda asset: ['ONE',asset.name],\n",
    "        GIVE = lambda c: ['GIVE',to_json(c)],\n",
    "        AND = lambda left, right: ['AND', to_json(left), to_json(right)],\n",
    "        OR = lambda left, right: ['OR',to_json(left), to_json(right)],\n",
    "        CONDITION= lambda obs, left,right: ['CONDITION',to_json(obs),to_json(left),to_json(right)],\n",
    "        SCALE = lambda o,c: ['SCALE',to_json(o),to_json(c)],\n",
    "        WHEN = lambda d,c: ['WHEN',str(d), to_json(c)]\n",
    "        \n",
    "    )\n",
    "\n",
    "def to_json(thing):\n",
    "    try:\n",
    "        return {\n",
    "            Contract:contract_to_json,\n",
    "            Observable:observable_to_json\n",
    "        }[type(thing)](thing)\n",
    "    except KeyError:\n",
    "        raise Exception(f\"KeyError with {thing}\")"
   ]
  },
  {
   "cell_type": "code",
   "execution_count": 112,
   "metadata": {},
   "outputs": [],
   "source": [
    "def from_json(l):\n",
    "    if isinstance(l, str):\n",
    "        if hasattr(Asset, l):\n",
    "            return getattr(Asset, l)\n",
    "    \n",
    "    if not isinstance(l,list):\n",
    "        return l\n",
    "    \n",
    "    head, *tail = l\n",
    "    assert head.upper()==head\n",
    "    \n",
    "    args=[from_json(el) for el in tail]\n",
    "    \n",
    "    if hasattr(Contract,head):\n",
    "        return getattr(Contract,head)(*args)\n",
    "    elif hasattr(Observable,head):\n",
    "        return getattr(Observable,head)(*args)\n",
    "    else:\n",
    "        raise Exception(f\"Unknown constructor: {head}\")\n"
   ]
  },
  {
   "cell_type": "code",
   "execution_count": 113,
   "metadata": {},
   "outputs": [],
   "source": [
    "def pprint(contract):\n",
    "    print(json.dumps(to_json(contract),indent=2))"
   ]
  },
  {
   "cell_type": "code",
   "execution_count": 114,
   "metadata": {},
   "outputs": [
    {
     "data": {
      "text/plain": [
       "ZERO()"
      ]
     },
     "execution_count": 114,
     "metadata": {},
     "output_type": "execute_result"
    }
   ],
   "source": [
    "ZERO()"
   ]
  },
  {
   "cell_type": "code",
   "execution_count": 115,
   "metadata": {},
   "outputs": [
    {
     "data": {
      "text/plain": [
       "['ZERO']"
      ]
     },
     "execution_count": 115,
     "metadata": {},
     "output_type": "execute_result"
    }
   ],
   "source": [
    "to_json(ZERO())"
   ]
  },
  {
   "cell_type": "code",
   "execution_count": 116,
   "metadata": {},
   "outputs": [
    {
     "data": {
      "text/plain": [
       "ONE(BTC)"
      ]
     },
     "execution_count": 116,
     "metadata": {},
     "output_type": "execute_result"
    }
   ],
   "source": [
    "ONE(BTC)"
   ]
  },
  {
   "cell_type": "code",
   "execution_count": 117,
   "metadata": {},
   "outputs": [
    {
     "data": {
      "text/plain": [
       "['ONE', 'BTC']"
      ]
     },
     "execution_count": 117,
     "metadata": {},
     "output_type": "execute_result"
    }
   ],
   "source": [
    "to_json(ONE(BTC))"
   ]
  },
  {
   "cell_type": "code",
   "execution_count": 118,
   "metadata": {},
   "outputs": [
    {
     "data": {
      "text/plain": [
       "ONE(BTC)"
      ]
     },
     "execution_count": 118,
     "metadata": {},
     "output_type": "execute_result"
    }
   ],
   "source": [
    "from_json(_)"
   ]
  },
  {
   "cell_type": "code",
   "execution_count": 119,
   "metadata": {},
   "outputs": [
    {
     "data": {
      "text/plain": [
       "AND(ONE(BTC),GIVE(ONE(CAD)))"
      ]
     },
     "execution_count": 119,
     "metadata": {},
     "output_type": "execute_result"
    }
   ],
   "source": [
    "AND(ONE(BTC),GIVE(ONE(CAD)))"
   ]
  },
  {
   "cell_type": "code",
   "execution_count": 120,
   "metadata": {},
   "outputs": [
    {
     "name": "stdout",
     "output_type": "stream",
     "text": [
      "[\n",
      "  \"AND\",\n",
      "  [\n",
      "    \"ONE\",\n",
      "    \"BTC\"\n",
      "  ],\n",
      "  [\n",
      "    \"GIVE\",\n",
      "    [\n",
      "      \"ONE\",\n",
      "      \"CAD\"\n",
      "    ]\n",
      "  ]\n",
      "]\n"
     ]
    }
   ],
   "source": [
    "pprint(AND(ONE(BTC),GIVE(ONE(CAD))))"
   ]
  },
  {
   "cell_type": "markdown",
   "metadata": {},
   "source": [
    "# Examples"
   ]
  },
  {
   "cell_type": "code",
   "execution_count": 121,
   "metadata": {},
   "outputs": [],
   "source": [
    "def spottrade(left_amount:Decimal, left:Asset, right_amount:Decimal, right:Asset):\n",
    "    return AND(\n",
    "        SCALE(CONST(left_amount),ONE(left)),\n",
    "        GIVE(SCALE(CONST(right_amount),ONE(right)))\n",
    "    )"
   ]
  },
  {
   "cell_type": "markdown",
   "metadata": {},
   "source": [
    "## Buy a BTC with 8000 USD"
   ]
  },
  {
   "cell_type": "code",
   "execution_count": 122,
   "metadata": {},
   "outputs": [],
   "source": [
    "t1=spottrade(1,BTC,48000,USD)"
   ]
  },
  {
   "cell_type": "code",
   "execution_count": 123,
   "metadata": {},
   "outputs": [
    {
     "data": {
      "text/plain": [
       "AND(SCALE(CONST(1),ONE(BTC)),GIVE(SCALE(CONST(48000),ONE(USD))))"
      ]
     },
     "execution_count": 123,
     "metadata": {},
     "output_type": "execute_result"
    }
   ],
   "source": [
    "t1"
   ]
  },
  {
   "cell_type": "code",
   "execution_count": 124,
   "metadata": {},
   "outputs": [
    {
     "name": "stdout",
     "output_type": "stream",
     "text": [
      "[\n",
      "  \"GIVE\",\n",
      "  [\n",
      "    \"AND\",\n",
      "    [\n",
      "      \"SCALE\",\n",
      "      [\n",
      "        \"CONST\",\n",
      "        1\n",
      "      ],\n",
      "      [\n",
      "        \"ONE\",\n",
      "        \"BTC\"\n",
      "      ]\n",
      "    ],\n",
      "    [\n",
      "      \"GIVE\",\n",
      "      [\n",
      "        \"SCALE\",\n",
      "        [\n",
      "          \"CONST\",\n",
      "          48000\n",
      "        ],\n",
      "        [\n",
      "          \"ONE\",\n",
      "          \"USD\"\n",
      "        ]\n",
      "      ]\n",
      "    ]\n",
      "  ]\n",
      "]\n"
     ]
    }
   ],
   "source": [
    "pprint(GIVE(t1))"
   ]
  },
  {
   "cell_type": "markdown",
   "metadata": {},
   "source": [
    "# Serialization\n",
    "Various different ways of representing, formatting, and serializing the same tree structure"
   ]
  },
  {
   "cell_type": "code",
   "execution_count": 125,
   "metadata": {},
   "outputs": [],
   "source": [
    "j=to_json(t1)"
   ]
  },
  {
   "cell_type": "code",
   "execution_count": 126,
   "metadata": {},
   "outputs": [
    {
     "data": {
      "text/plain": [
       "['AND',\n",
       " ['SCALE', ['CONST', 1], ['ONE', 'BTC']],\n",
       " ['GIVE', ['SCALE', ['CONST', 48000], ['ONE', 'USD']]]]"
      ]
     },
     "execution_count": 126,
     "metadata": {},
     "output_type": "execute_result"
    }
   ],
   "source": [
    "j"
   ]
  },
  {
   "cell_type": "code",
   "execution_count": 127,
   "metadata": {},
   "outputs": [],
   "source": [
    "t2=from_json(j)"
   ]
  },
  {
   "cell_type": "code",
   "execution_count": 128,
   "metadata": {},
   "outputs": [
    {
     "data": {
      "text/plain": [
       "True"
      ]
     },
     "execution_count": 128,
     "metadata": {},
     "output_type": "execute_result"
    }
   ],
   "source": [
    "t2==t1"
   ]
  },
  {
   "cell_type": "code",
   "execution_count": 129,
   "metadata": {},
   "outputs": [
    {
     "data": {
      "text/plain": [
       "AND(SCALE(CONST(1),ONE(BTC)),GIVE(SCALE(CONST(48000),ONE(USD))))"
      ]
     },
     "execution_count": 129,
     "metadata": {},
     "output_type": "execute_result"
    }
   ],
   "source": [
    "t1"
   ]
  },
  {
   "cell_type": "code",
   "execution_count": 130,
   "metadata": {},
   "outputs": [
    {
     "data": {
      "text/plain": [
       "AND(SCALE(CONST(1),ONE(BTC)),GIVE(SCALE(CONST(48000),ONE(USD))))"
      ]
     },
     "execution_count": 130,
     "metadata": {},
     "output_type": "execute_result"
    }
   ],
   "source": [
    "t2"
   ]
  },
  {
   "cell_type": "code",
   "execution_count": 131,
   "metadata": {},
   "outputs": [
    {
     "name": "stdout",
     "output_type": "stream",
     "text": [
      "[\n",
      "  \"AND\",\n",
      "  [\n",
      "    \"SCALE\",\n",
      "    [\n",
      "      \"CONST\",\n",
      "      1\n",
      "    ],\n",
      "    [\n",
      "      \"ONE\",\n",
      "      \"BTC\"\n",
      "    ]\n",
      "  ],\n",
      "  [\n",
      "    \"GIVE\",\n",
      "    [\n",
      "      \"SCALE\",\n",
      "      [\n",
      "        \"CONST\",\n",
      "        48000\n",
      "      ],\n",
      "      [\n",
      "        \"ONE\",\n",
      "        \"USD\"\n",
      "      ]\n",
      "    ]\n",
      "  ]\n",
      "]\n"
     ]
    }
   ],
   "source": [
    "pprint(t1)"
   ]
  },
  {
   "cell_type": "markdown",
   "metadata": {},
   "source": [
    "## calls and puts"
   ]
  },
  {
   "cell_type": "code",
   "execution_count": 132,
   "metadata": {},
   "outputs": [],
   "source": [
    "\n",
    "option=WHEN(\n",
    "    dt.date(2020,7,1),                            # on the 1st of JULY, acquire the right\n",
    "    OR(                                           # to EITHER\n",
    "        ZERO(),                                   # do nothing, OR\n",
    "        AND(                                      # trade  \n",
    "            GIVE(                                 # $10,000USD\n",
    "                SCALE(CONST(10000),ONE(USD))      # for\n",
    "            ),                                    # 1 BTC\n",
    "            SCALE(CONST(1),ONE(BTC))\n",
    "        )\n",
    "    )\n",
    ")"
   ]
  },
  {
   "cell_type": "code",
   "execution_count": 133,
   "metadata": {},
   "outputs": [
    {
     "data": {
      "text/plain": [
       "WHEN(datetime.date(2020, 7, 1),OR(ZERO(),AND(GIVE(SCALE(CONST(10000),ONE(USD))),SCALE(CONST(1),ONE(BTC)))))"
      ]
     },
     "execution_count": 133,
     "metadata": {},
     "output_type": "execute_result"
    }
   ],
   "source": [
    "option"
   ]
  },
  {
   "cell_type": "code",
   "execution_count": 134,
   "metadata": {},
   "outputs": [
    {
     "name": "stdout",
     "output_type": "stream",
     "text": [
      "[\n",
      "  \"WHEN\",\n",
      "  \"2020-07-01\",\n",
      "  [\n",
      "    \"OR\",\n",
      "    [\n",
      "      \"ZERO\"\n",
      "    ],\n",
      "    [\n",
      "      \"AND\",\n",
      "      [\n",
      "        \"GIVE\",\n",
      "        [\n",
      "          \"SCALE\",\n",
      "          [\n",
      "            \"CONST\",\n",
      "            10000\n",
      "          ],\n",
      "          [\n",
      "            \"ONE\",\n",
      "            \"USD\"\n",
      "          ]\n",
      "        ]\n",
      "      ],\n",
      "      [\n",
      "        \"SCALE\",\n",
      "        [\n",
      "          \"CONST\",\n",
      "          1\n",
      "        ],\n",
      "        [\n",
      "          \"ONE\",\n",
      "          \"BTC\"\n",
      "        ]\n",
      "      ]\n",
      "    ]\n",
      "  ]\n",
      "]\n"
     ]
    }
   ],
   "source": [
    "pprint(option)"
   ]
  },
  {
   "cell_type": "markdown",
   "metadata": {},
   "source": [
    "### Utility functions for constructing options"
   ]
  },
  {
   "cell_type": "code",
   "execution_count": 135,
   "metadata": {},
   "outputs": [],
   "source": [
    "def call(t, base, k, quote):\n",
    "    'at time t acquire the right to purchase 1 unit of base at price k'\n",
    "    return WHEN(\n",
    "        t,\n",
    "        OR(\n",
    "            ZERO(),\n",
    "            spottrade(1,base, k, quote)\n",
    "        )\n",
    "    )\n",
    "\n",
    "def put(t,base,k,quote):\n",
    "    'at time t acquire the right to sell 1 unit of base at price k'\n",
    "    return WHEN(\n",
    "        t,\n",
    "        OR(\n",
    "            ZERO(),\n",
    "            spottrade(k,quote, 1, base)\n",
    "        )\n",
    "    )\n",
    "\n",
    "def forward(t, contract):\n",
    "    return WHEN(t,contract)"
   ]
  },
  {
   "cell_type": "code",
   "execution_count": 136,
   "metadata": {},
   "outputs": [
    {
     "data": {
      "text/plain": [
       "WHEN(datetime.date(2021, 12, 31),AND(SCALE(CONST(1),ONE(BTC)),GIVE(SCALE(CONST(40427),ONE(USD)))))"
      ]
     },
     "execution_count": 136,
     "metadata": {},
     "output_type": "execute_result"
    }
   ],
   "source": [
    "f= forward(dt.date(2021,12,31),spottrade(1,BTC,40427,USD))\n",
    "\n",
    "f"
   ]
  },
  {
   "cell_type": "code",
   "execution_count": 137,
   "metadata": {},
   "outputs": [
    {
     "name": "stdout",
     "output_type": "stream",
     "text": [
      "[\n",
      "  \"WHEN\",\n",
      "  \"2021-12-31\",\n",
      "  [\n",
      "    \"AND\",\n",
      "    [\n",
      "      \"SCALE\",\n",
      "      [\n",
      "        \"CONST\",\n",
      "        1\n",
      "      ],\n",
      "      [\n",
      "        \"ONE\",\n",
      "        \"BTC\"\n",
      "      ]\n",
      "    ],\n",
      "    [\n",
      "      \"GIVE\",\n",
      "      [\n",
      "        \"SCALE\",\n",
      "        [\n",
      "          \"CONST\",\n",
      "          40427\n",
      "        ],\n",
      "        [\n",
      "          \"ONE\",\n",
      "          \"USD\"\n",
      "        ]\n",
      "      ]\n",
      "    ]\n",
      "  ]\n",
      "]\n"
     ]
    }
   ],
   "source": [
    "pprint(f)"
   ]
  },
  {
   "cell_type": "code",
   "execution_count": 138,
   "metadata": {},
   "outputs": [
    {
     "name": "stdout",
     "output_type": "stream",
     "text": [
      "[\"WHEN\", \"2021-12-31\", [\"AND\", [\"SCALE\", [\"CONST\", 1], [\"ONE\", \"BTC\"]], [\"GIVE\", [\"SCALE\", [\"CONST\", 40427], [\"ONE\", \"USD\"]]]]]\n"
     ]
    }
   ],
   "source": [
    "print(json.dumps(to_json(f) ))"
   ]
  },
  {
   "cell_type": "markdown",
   "metadata": {},
   "source": [
    "On July 1st I acquire a BTC for $10,000"
   ]
  },
  {
   "cell_type": "code",
   "execution_count": 141,
   "metadata": {},
   "outputs": [
    {
     "data": {
      "text/plain": [
       "WHEN(datetime.date(2020, 7, 1),AND(SCALE(CONST(1),ONE(BTC)),GIVE(SCALE(CONST(10000),ONE(USD)))))"
      ]
     },
     "execution_count": 141,
     "metadata": {},
     "output_type": "execute_result"
    }
   ],
   "source": [
    "forward(dt.date(2020,7,1),spottrade(1,BTC,10000,USD))"
   ]
  },
  {
   "cell_type": "markdown",
   "metadata": {},
   "source": [
    "On July 1st, *either* obtain a BTC for 8,000 USD or do nothing."
   ]
  },
  {
   "cell_type": "code",
   "execution_count": 142,
   "metadata": {},
   "outputs": [
    {
     "data": {
      "text/plain": [
       "WHEN(datetime.date(2020, 7, 1),OR(ZERO(),AND(SCALE(CONST(1),ONE(BTC)),GIVE(SCALE(CONST(10000),ONE(USD))))))"
      ]
     },
     "execution_count": 142,
     "metadata": {},
     "output_type": "execute_result"
    }
   ],
   "source": [
    "call(dt.date(2020,7,1),BTC,10000,USD)"
   ]
  },
  {
   "cell_type": "code",
   "execution_count": 143,
   "metadata": {},
   "outputs": [
    {
     "name": "stdout",
     "output_type": "stream",
     "text": [
      "[\n",
      "  \"WHEN\",\n",
      "  \"2020-07-01\",\n",
      "  [\n",
      "    \"OR\",\n",
      "    [\n",
      "      \"ZERO\"\n",
      "    ],\n",
      "    [\n",
      "      \"AND\",\n",
      "      [\n",
      "        \"SCALE\",\n",
      "        [\n",
      "          \"CONST\",\n",
      "          1\n",
      "        ],\n",
      "        [\n",
      "          \"ONE\",\n",
      "          \"BTC\"\n",
      "        ]\n",
      "      ],\n",
      "      [\n",
      "        \"GIVE\",\n",
      "        [\n",
      "          \"SCALE\",\n",
      "          [\n",
      "            \"CONST\",\n",
      "            10000\n",
      "          ],\n",
      "          [\n",
      "            \"ONE\",\n",
      "            \"USD\"\n",
      "          ]\n",
      "        ]\n",
      "      ]\n",
      "    ]\n",
      "  ]\n",
      "]\n"
     ]
    }
   ],
   "source": [
    "pprint(call(dt.date(2020,7,1),BTC,10000,USD))"
   ]
  },
  {
   "cell_type": "markdown",
   "metadata": {},
   "source": [
    "# PPN\n",
    "\n",
    "* maturity: july 1st\n",
    "* floor: 8k\n",
    "* ceiling: 15k"
   ]
  },
  {
   "cell_type": "code",
   "execution_count": 144,
   "metadata": {},
   "outputs": [],
   "source": [
    "t = dt.date(2020,7,1)\n",
    "\n",
    "long_put=put(t,BTC,8000,USD)\n",
    "\n",
    "long_call = call(t, BTC, 15000, USD)\n",
    "short_call=GIVE(long_call)\n",
    " "
   ]
  },
  {
   "cell_type": "code",
   "execution_count": 145,
   "metadata": {},
   "outputs": [
    {
     "data": {
      "text/plain": [
       "WHEN(datetime.date(2020, 7, 1),OR(ZERO(),AND(SCALE(CONST(8000),ONE(USD)),GIVE(SCALE(CONST(1),ONE(BTC))))))"
      ]
     },
     "execution_count": 145,
     "metadata": {},
     "output_type": "execute_result"
    }
   ],
   "source": [
    "long_put"
   ]
  },
  {
   "cell_type": "code",
   "execution_count": 146,
   "metadata": {},
   "outputs": [
    {
     "data": {
      "text/plain": [
       "GIVE(WHEN(datetime.date(2020, 7, 1),OR(ZERO(),AND(SCALE(CONST(1),ONE(BTC)),GIVE(SCALE(CONST(15000),ONE(USD)))))))"
      ]
     },
     "execution_count": 146,
     "metadata": {},
     "output_type": "execute_result"
    }
   ],
   "source": [
    "short_call"
   ]
  },
  {
   "cell_type": "code",
   "execution_count": null,
   "metadata": {},
   "outputs": [],
   "source": []
  },
  {
   "cell_type": "code",
   "execution_count": 147,
   "metadata": {},
   "outputs": [],
   "source": [
    "ppn = AND(\n",
    "    WHEN(t,ONE(BTC)),\n",
    "    AND(\n",
    "        short_call,\n",
    "        long_put\n",
    "    )\n",
    ")"
   ]
  },
  {
   "cell_type": "code",
   "execution_count": 148,
   "metadata": {},
   "outputs": [
    {
     "data": {
      "text/plain": [
       "AND(WHEN(datetime.date(2020, 7, 1),ONE(BTC)),AND(GIVE(WHEN(datetime.date(2020, 7, 1),OR(ZERO(),AND(SCALE(CONST(1),ONE(BTC)),GIVE(SCALE(CONST(15000),ONE(USD))))))),WHEN(datetime.date(2020, 7, 1),OR(ZERO(),AND(SCALE(CONST(8000),ONE(USD)),GIVE(SCALE(CONST(1),ONE(BTC))))))))"
      ]
     },
     "execution_count": 148,
     "metadata": {},
     "output_type": "execute_result"
    }
   ],
   "source": [
    "ppn"
   ]
  },
  {
   "cell_type": "markdown",
   "metadata": {},
   "source": [
    "\n",
    "## Complete transaction\n",
    "\n",
    "And then let's say we sold this PPN for, say 10000, the complete trade would be:"
   ]
  },
  {
   "cell_type": "code",
   "execution_count": 149,
   "metadata": {},
   "outputs": [],
   "source": [
    "fulltrade=AND(\n",
    "    SCALE(CONST(10000),ONE(USD)),\n",
    "    GIVE(ppn)\n",
    ")"
   ]
  },
  {
   "cell_type": "code",
   "execution_count": 150,
   "metadata": {},
   "outputs": [
    {
     "data": {
      "text/plain": [
       "AND(SCALE(CONST(10000),ONE(USD)),GIVE(AND(WHEN(datetime.date(2020, 7, 1),ONE(BTC)),AND(GIVE(WHEN(datetime.date(2020, 7, 1),OR(ZERO(),AND(SCALE(CONST(1),ONE(BTC)),GIVE(SCALE(CONST(15000),ONE(USD))))))),WHEN(datetime.date(2020, 7, 1),OR(ZERO(),AND(SCALE(CONST(8000),ONE(USD)),GIVE(SCALE(CONST(1),ONE(BTC))))))))))"
      ]
     },
     "execution_count": 150,
     "metadata": {},
     "output_type": "execute_result"
    }
   ],
   "source": [
    "fulltrade"
   ]
  },
  {
   "cell_type": "code",
   "execution_count": 151,
   "metadata": {},
   "outputs": [
    {
     "name": "stdout",
     "output_type": "stream",
     "text": [
      "[\n",
      "  \"AND\",\n",
      "  [\n",
      "    \"SCALE\",\n",
      "    [\n",
      "      \"CONST\",\n",
      "      10000\n",
      "    ],\n",
      "    [\n",
      "      \"ONE\",\n",
      "      \"USD\"\n",
      "    ]\n",
      "  ],\n",
      "  [\n",
      "    \"GIVE\",\n",
      "    [\n",
      "      \"AND\",\n",
      "      [\n",
      "        \"WHEN\",\n",
      "        \"2020-07-01\",\n",
      "        [\n",
      "          \"ONE\",\n",
      "          \"BTC\"\n",
      "        ]\n",
      "      ],\n",
      "      [\n",
      "        \"AND\",\n",
      "        [\n",
      "          \"GIVE\",\n",
      "          [\n",
      "            \"WHEN\",\n",
      "            \"2020-07-01\",\n",
      "            [\n",
      "              \"OR\",\n",
      "              [\n",
      "                \"ZERO\"\n",
      "              ],\n",
      "              [\n",
      "                \"AND\",\n",
      "                [\n",
      "                  \"SCALE\",\n",
      "                  [\n",
      "                    \"CONST\",\n",
      "                    1\n",
      "                  ],\n",
      "                  [\n",
      "                    \"ONE\",\n",
      "                    \"BTC\"\n",
      "                  ]\n",
      "                ],\n",
      "                [\n",
      "                  \"GIVE\",\n",
      "                  [\n",
      "                    \"SCALE\",\n",
      "                    [\n",
      "                      \"CONST\",\n",
      "                      15000\n",
      "                    ],\n",
      "                    [\n",
      "                      \"ONE\",\n",
      "                      \"USD\"\n",
      "                    ]\n",
      "                  ]\n",
      "                ]\n",
      "              ]\n",
      "            ]\n",
      "          ]\n",
      "        ],\n",
      "        [\n",
      "          \"WHEN\",\n",
      "          \"2020-07-01\",\n",
      "          [\n",
      "            \"OR\",\n",
      "            [\n",
      "              \"ZERO\"\n",
      "            ],\n",
      "            [\n",
      "              \"AND\",\n",
      "              [\n",
      "                \"SCALE\",\n",
      "                [\n",
      "                  \"CONST\",\n",
      "                  8000\n",
      "                ],\n",
      "                [\n",
      "                  \"ONE\",\n",
      "                  \"USD\"\n",
      "                ]\n",
      "              ],\n",
      "              [\n",
      "                \"GIVE\",\n",
      "                [\n",
      "                  \"SCALE\",\n",
      "                  [\n",
      "                    \"CONST\",\n",
      "                    1\n",
      "                  ],\n",
      "                  [\n",
      "                    \"ONE\",\n",
      "                    \"BTC\"\n",
      "                  ]\n",
      "                ]\n",
      "              ]\n",
      "            ]\n",
      "          ]\n",
      "        ]\n",
      "      ]\n",
      "    ]\n",
      "  ]\n",
      "]\n"
     ]
    }
   ],
   "source": [
    "pprint(fulltrade)"
   ]
  },
  {
   "cell_type": "markdown",
   "metadata": {},
   "source": [
    "### Outstanding questions:\n",
    "\n",
    "* can we use this to express a cash-settled future?\n",
    "* can we tag or identify sub-trees in the contract expression?\n",
    "* can we compare two trees for equivalence?\n",
    "* how do we capture exchange features of futures, such as margin obligations?\n",
    "* settlement\n",
    "* option exercise, especially if we get into American options\n",
    "* quanto: imagine we have a BTC/CAD trade but agree to settle in USD, settlement currency is unrelated\n",
    "  - (e.g. USD speculation on the Nikkei)\n",
    "* deribit options: BTC/USD trade but BTC settled\n",
    "* Observable reference rates, e.g. Bitmex."
   ]
  },
  {
   "cell_type": "markdown",
   "metadata": {},
   "source": [
    "* Can we use pattern-matching to capture/identify/process sub-elements of a contract?"
   ]
  },
  {
   "cell_type": "markdown",
   "metadata": {},
   "source": [
    "I feel this might be the most important question. A language with sum types yet without the ability to pattern match on sum-type constructors is maybe not very useful."
   ]
  },
  {
   "cell_type": "markdown",
   "metadata": {},
   "source": [
    "In Haskell, pattern matching in fact _only_ works on constructors"
   ]
  },
  {
   "cell_type": "markdown",
   "metadata": {},
   "source": [
    "Now we clearly do have pattern matching, because that's what we've been using for serialization etc, e.g.:"
   ]
  },
  {
   "cell_type": "markdown",
   "metadata": {},
   "source": [
    "But this is only matching on the constructor function name, which isn't really powerful enough. Can we do more than that?"
   ]
  },
  {
   "cell_type": "code",
   "execution_count": null,
   "metadata": {},
   "outputs": [],
   "source": []
  },
  {
   "cell_type": "markdown",
   "metadata": {},
   "source": [
    "## Futures"
   ]
  },
  {
   "cell_type": "code",
   "execution_count": null,
   "metadata": {},
   "outputs": [],
   "source": []
  }
 ],
 "metadata": {
  "kernelspec": {
   "display_name": "contracts_and_smart_contracts-3cIAC8eA",
   "language": "python",
   "name": "python3"
  },
  "language_info": {
   "codemirror_mode": {
    "name": "ipython",
    "version": 3
   },
   "file_extension": ".py",
   "mimetype": "text/x-python",
   "name": "python",
   "nbconvert_exporter": "python",
   "pygments_lexer": "ipython3",
   "version": "3.9.16"
  },
  "vscode": {
   "interpreter": {
    "hash": "89249f5d6bd4a8dc85fe8e454fa41b66ea87ae4d368a3de9762db1b4b5d6ff1e"
   }
  }
 },
 "nbformat": 4,
 "nbformat_minor": 4
}
