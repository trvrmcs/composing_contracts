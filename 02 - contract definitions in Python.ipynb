{
 "cells": [
  {
   "attachments": {},
   "cell_type": "markdown",
   "metadata": {},
   "source": [
    "# Contract definition.\n",
    "Based on ideas from Peyton Jones, Eber\n",
    "\n",
    "> [1] Jones, S. Peyton, Jean-Marc Eber, and Julian Seward. “Composing contracts: an adventure in financial engineering.” ACM SIG-PLAN Notices 35.9 (2000): 280-292."
   ]
  },
  {
   "attachments": {},
   "cell_type": "markdown",
   "metadata": {},
   "source": [
    "```python\n",
    "\n",
    "@adt\n",
    "class Observable(Generic[T]):\n",
    "    CONST: Case[T]\n",
    "\n",
    "@adt\n",
    "class Contract:\n",
    "    ZERO: Case\n",
    "    ONE: Case[Asset]\n",
    "    GIVE: Case[\"Contract\"]\n",
    "    AND: Case[\"Contract\", \"Contract\"]\n",
    "    OR: Case[\"Contract\", \"Contract\"]\n",
    "    CONDITION: Case[Observable[bool], \"Contract\", \"Contract\"]\n",
    "    SCALE: Case[Observable[Decimal], \"Contract\"]\n",
    "    WHEN: Case[dt.date, \"Contract\"]\n",
    "```"
   ]
  },
  {
   "cell_type": "code",
   "execution_count": 1,
   "metadata": {},
   "outputs": [],
   "source": [
    "from decimal import Decimal \n",
    "import datetime as dt \n",
    "from contracts import * "
   ]
  },
  {
   "attachments": {},
   "cell_type": "markdown",
   "metadata": {},
   "source": [
    "The empty contract"
   ]
  },
  {
   "cell_type": "code",
   "execution_count": 2,
   "metadata": {},
   "outputs": [
    {
     "data": {
      "text/plain": [
       "ZERO()"
      ]
     },
     "execution_count": 2,
     "metadata": {},
     "output_type": "execute_result"
    }
   ],
   "source": [
    "ZERO() "
   ]
  },
  {
   "attachments": {},
   "cell_type": "markdown",
   "metadata": {},
   "source": [
    "The right to receive 1 BTC"
   ]
  },
  {
   "cell_type": "code",
   "execution_count": 3,
   "metadata": {},
   "outputs": [
    {
     "data": {
      "text/plain": [
       "ONE(BTC)"
      ]
     },
     "execution_count": 3,
     "metadata": {},
     "output_type": "execute_result"
    }
   ],
   "source": [
    "ONE(BTC)"
   ]
  },
  {
   "attachments": {},
   "cell_type": "markdown",
   "metadata": {},
   "source": [
    "The right to receive 0.5 BTC"
   ]
  },
  {
   "cell_type": "code",
   "execution_count": 4,
   "metadata": {},
   "outputs": [
    {
     "data": {
      "text/plain": [
       "SCALE(CONST(0.5),ONE(BTC))"
      ]
     },
     "execution_count": 4,
     "metadata": {},
     "output_type": "execute_result"
    }
   ],
   "source": [
    "SCALE(CONST(0.5),ONE(BTC))"
   ]
  },
  {
   "attachments": {},
   "cell_type": "markdown",
   "metadata": {},
   "source": [
    "The obligation to give 1 BTC"
   ]
  },
  {
   "cell_type": "code",
   "execution_count": 5,
   "metadata": {},
   "outputs": [
    {
     "data": {
      "text/plain": [
       "GIVE(ONE(BTC))"
      ]
     },
     "execution_count": 5,
     "metadata": {},
     "output_type": "execute_result"
    }
   ],
   "source": [
    "GIVE(ONE(BTC))"
   ]
  },
  {
   "attachments": {},
   "cell_type": "markdown",
   "metadata": {},
   "source": [
    "The right to recieve 1 BTC AND the obligation to give 25,000 CAD. "
   ]
  },
  {
   "cell_type": "code",
   "execution_count": 6,
   "metadata": {},
   "outputs": [
    {
     "data": {
      "text/plain": [
       "AND(ONE(BTC),GIVE(SCALE(CONST(25000),ONE(CAD))))"
      ]
     },
     "execution_count": 6,
     "metadata": {},
     "output_type": "execute_result"
    }
   ],
   "source": [
    "\n",
    "AND(ONE(BTC),GIVE(SCALE(CONST(25000),ONE(CAD))))"
   ]
  },
  {
   "cell_type": "code",
   "execution_count": 7,
   "metadata": {},
   "outputs": [
    {
     "name": "stdout",
     "output_type": "stream",
     "text": [
      "[\"SCALE\", [\"CONST\", 25000], [\"ONE\", \"CAD\"]]\n"
     ]
    }
   ],
   "source": [
    "pprint( SCALE(CONST(25000),ONE(CAD)))"
   ]
  },
  {
   "cell_type": "markdown",
   "metadata": {},
   "source": [
    "# Examples"
   ]
  },
  {
   "cell_type": "markdown",
   "metadata": {},
   "source": []
  },
  {
   "cell_type": "code",
   "execution_count": 8,
   "metadata": {},
   "outputs": [],
   "source": [
    "def spottrade(left_amount:Decimal, left:Asset, right_amount:Decimal, right:Asset):\n",
    "    return AND(\n",
    "        SCALE(CONST(left_amount),ONE(left)),\n",
    "        GIVE(SCALE(CONST(right_amount),ONE(right)))\n",
    "    )"
   ]
  },
  {
   "attachments": {},
   "cell_type": "markdown",
   "metadata": {},
   "source": [
    "Buy a BTC with 20000 USD"
   ]
  },
  {
   "cell_type": "code",
   "execution_count": 9,
   "metadata": {},
   "outputs": [],
   "source": [
    "t1=spottrade(1,BTC,20000,USD)"
   ]
  },
  {
   "cell_type": "code",
   "execution_count": 10,
   "metadata": {},
   "outputs": [
    {
     "data": {
      "text/plain": [
       "AND(SCALE(CONST(1),ONE(BTC)),GIVE(SCALE(CONST(20000),ONE(USD))))"
      ]
     },
     "execution_count": 10,
     "metadata": {},
     "output_type": "execute_result"
    }
   ],
   "source": [
    "t1"
   ]
  },
  {
   "cell_type": "code",
   "execution_count": null,
   "metadata": {},
   "outputs": [],
   "source": []
  }
 ],
 "metadata": {
  "kernelspec": {
   "display_name": "composing_contracts-zxz9PY4D",
   "language": "python",
   "name": "python3"
  },
  "language_info": {
   "codemirror_mode": {
    "name": "ipython",
    "version": 3
   },
   "file_extension": ".py",
   "mimetype": "text/x-python",
   "name": "python",
   "nbconvert_exporter": "python",
   "pygments_lexer": "ipython3",
   "version": "3.9.5"
  },
  "vscode": {
   "interpreter": {
    "hash": "f26458351a9e419ac4541a160cfdbfa200755051b237ba1f1df323b6c718acc0"
   }
  }
 },
 "nbformat": 4,
 "nbformat_minor": 4
}
