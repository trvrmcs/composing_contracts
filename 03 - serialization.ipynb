{
 "cells": [
  {
   "cell_type": "markdown",
   "metadata": {},
   "source": [
    "## Serialization"
   ]
  },
  {
   "attachments": {},
   "cell_type": "markdown",
   "metadata": {},
   "source": [
    "Now we have a generic language for contracts, the first thing we might want to do is figure out how to serialize them. Once we have a serialization mechanism, we can transmit contracts across the wire, store them in databases and so on."
   ]
  },
  {
   "attachments": {},
   "cell_type": "markdown",
   "metadata": {},
   "source": [
    "Personally I tend to reach for JSON whenever possible, because there's no point in re-inventing the wheel.\n",
    "\n",
    "So if we can turn any contract into a jsonable data structure, we get serialization almost for free.\n",
    "\n",
    "It turns out this is pretty easy. Contracts are already trees, and trees can be seen as nested lists:\n",
    "\n",
    "```\n",
    "[\n",
    "    \"foo\",\n",
    "    [\n",
    "        \"bar\",\n",
    "        [\n",
    "            \"and so on...\"\n",
    "        ]\n",
    "    ]\n",
    "]\n",
    "```\n",
    "\n",
    "\n",
    "So our serialization/deserialization strategy can be seen as:\n",
    "\n",
    "`Contract -> List -> JSON -> List -> Contract`\n"
   ]
  },
  {
   "cell_type": "code",
   "execution_count": 1,
   "metadata": {},
   "outputs": [],
   "source": [
    "from decimal import Decimal \n",
    "import binascii\n",
    "from contracts import *"
   ]
  },
  {
   "cell_type": "code",
   "execution_count": 2,
   "metadata": {},
   "outputs": [],
   "source": [
    "def spottrade(left_amount:Decimal, left:Asset, right_amount:Decimal, right:Asset):\n",
    "    return AND(\n",
    "        SCALE(CONST(left_amount),ONE(left)),\n",
    "        GIVE(SCALE(CONST(right_amount),ONE(right)))\n",
    "    )"
   ]
  },
  {
   "cell_type": "code",
   "execution_count": 3,
   "metadata": {},
   "outputs": [],
   "source": [
    "\n",
    "t1=spottrade(1,BTC,20000,USD)"
   ]
  },
  {
   "cell_type": "code",
   "execution_count": 4,
   "metadata": {},
   "outputs": [
    {
     "data": {
      "text/plain": [
       "AND(SCALE(CONST(1),ONE(BTC)),GIVE(SCALE(CONST(20000),ONE(USD))))"
      ]
     },
     "execution_count": 4,
     "metadata": {},
     "output_type": "execute_result"
    }
   ],
   "source": [
    "t1"
   ]
  },
  {
   "cell_type": "code",
   "execution_count": 5,
   "metadata": {},
   "outputs": [
    {
     "data": {
      "text/plain": [
       "['AND',\n",
       " ['SCALE', ['CONST', 1], ['ONE', 'BTC']],\n",
       " ['GIVE', ['SCALE', ['CONST', 20000], ['ONE', 'USD']]]]"
      ]
     },
     "execution_count": 5,
     "metadata": {},
     "output_type": "execute_result"
    }
   ],
   "source": [
    "to_list(t1)"
   ]
  },
  {
   "cell_type": "code",
   "execution_count": 6,
   "metadata": {},
   "outputs": [
    {
     "data": {
      "text/plain": [
       "AND(SCALE(CONST(1),ONE(BTC)),GIVE(SCALE(CONST(20000),ONE(USD))))"
      ]
     },
     "execution_count": 6,
     "metadata": {},
     "output_type": "execute_result"
    }
   ],
   "source": [
    "from_list(to_list(t1))"
   ]
  },
  {
   "cell_type": "code",
   "execution_count": 7,
   "metadata": {},
   "outputs": [
    {
     "data": {
      "text/plain": [
       "'[\"AND\", [\"SCALE\", [\"CONST\", 1], [\"ONE\", \"BTC\"]], [\"GIVE\", [\"SCALE\", [\"CONST\", 20000], [\"ONE\", \"USD\"]]]]'"
      ]
     },
     "execution_count": 7,
     "metadata": {},
     "output_type": "execute_result"
    }
   ],
   "source": [
    "dumps(t1)"
   ]
  },
  {
   "cell_type": "code",
   "execution_count": 8,
   "metadata": {},
   "outputs": [
    {
     "data": {
      "text/plain": [
       "AND(SCALE(CONST(1),ONE(BTC)),GIVE(SCALE(CONST(20000),ONE(USD))))"
      ]
     },
     "execution_count": 8,
     "metadata": {},
     "output_type": "execute_result"
    }
   ],
   "source": [
    "loads(dumps(t1))"
   ]
  },
  {
   "cell_type": "code",
   "execution_count": 9,
   "metadata": {},
   "outputs": [
    {
     "data": {
      "text/plain": [
       "True"
      ]
     },
     "execution_count": 9,
     "metadata": {},
     "output_type": "execute_result"
    }
   ],
   "source": [
    "loads(dumps(t1))==t1"
   ]
  },
  {
   "attachments": {},
   "cell_type": "markdown",
   "metadata": {},
   "source": [
    "We can even get bytes for a wire representation if we want:"
   ]
  },
  {
   "cell_type": "code",
   "execution_count": 10,
   "metadata": {},
   "outputs": [
    {
     "data": {
      "text/plain": [
       "b'5b22414e44222c205b225343414c45222c205b22434f4e5354222c20315d2c205b224f4e45222c2022425443225d5d2c205b2247495645222c205b225343414c45222c205b22434f4e5354222c2032303030305d2c205b224f4e45222c2022555344225d5d5d5d'"
      ]
     },
     "execution_count": 10,
     "metadata": {},
     "output_type": "execute_result"
    }
   ],
   "source": [
    "\n",
    "b=binascii.hexlify(dumps(t1).encode())\n",
    "b"
   ]
  },
  {
   "cell_type": "code",
   "execution_count": 11,
   "metadata": {},
   "outputs": [
    {
     "data": {
      "text/plain": [
       "AND(SCALE(CONST(1),ONE(BTC)),GIVE(SCALE(CONST(20000),ONE(USD))))"
      ]
     },
     "execution_count": 11,
     "metadata": {},
     "output_type": "execute_result"
    }
   ],
   "source": [
    "loads(binascii.unhexlify(b).decode())"
   ]
  },
  {
   "cell_type": "code",
   "execution_count": null,
   "metadata": {},
   "outputs": [],
   "source": []
  }
 ],
 "metadata": {
  "kernelspec": {
   "display_name": "composing_contracts-zxz9PY4D",
   "language": "python",
   "name": "python3"
  },
  "language_info": {
   "codemirror_mode": {
    "name": "ipython",
    "version": 3
   },
   "file_extension": ".py",
   "mimetype": "text/x-python",
   "name": "python",
   "nbconvert_exporter": "python",
   "pygments_lexer": "ipython3",
   "version": "3.9.5"
  },
  "orig_nbformat": 4
 },
 "nbformat": 4,
 "nbformat_minor": 2
}
