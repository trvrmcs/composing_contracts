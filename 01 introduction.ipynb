{
 "cells": [
  {
   "cell_type": "markdown",
   "id": "4d05fc25",
   "metadata": {},
   "source": [
    "# Introduction"
   ]
  },
  {
   "cell_type": "markdown",
   "id": "6907d42b",
   "metadata": {},
   "source": [
    "https://www.cs.tufts.edu/~nr/cs257/archive/simon-peyton-jones/contracts.pdf\n",
    "    \n",
    "    \n",
    "Published in ICFP '00 2000\n",
    "\n",
    "\n",
    "Ideas taken up by at least one company - LexiFi, and a few re-implementations in other languages.\n",
    "\n",
    "\n",
    "### Code Example:\n",
    "```haskell\n",
    "european :: Date -> Contract -> Contract\n",
    "european t u = cWhen (at t) (u `cOr` zero)\n",
    "```\n"
   ]
  },
  {
   "cell_type": "markdown",
   "id": "0dd5bac1",
   "metadata": {},
   "source": [
    "Provides the building blocks for a language talking about contracts, observables, and the combinators needed to stick them together."
   ]
  },
  {
   "cell_type": "markdown",
   "id": "e817595b",
   "metadata": {},
   "source": [
    "## Problem - it's written in Haskell"
   ]
  },
  {
   "cell_type": "markdown",
   "id": "02bf6734",
   "metadata": {},
   "source": [
    "Haskell can be a challenge to read, but most of this code is about building up a grammar for contracts.\n",
    "\n",
    "\n",
    "Consider JSON for example:"
   ]
  },
  {
   "cell_type": "markdown",
   "id": "d5802b15",
   "metadata": {},
   "source": [
    "https://www.json.org/json-en.html"
   ]
  },
  {
   "cell_type": "markdown",
   "id": "4a25404e",
   "metadata": {},
   "source": [
    "JSON objects are built up using a small set of rules:\n",
    "\n",
    "* a json is empty or contains members\n",
    "* members are key:value pairs\n",
    "* keys are strings\n",
    "* values are one of object, array, string, number, true, false, null\n",
    "* arrays contain comma separated values"
   ]
  },
  {
   "cell_type": "markdown",
   "id": "2ecf55e7",
   "metadata": {},
   "source": [
    "From this we can do a couple of things:\n",
    "\n",
    "* Validate whether something is a JSON document or not\n",
    "* iterate through it and do some computation on the nodes, e.g. 'how many elements in total'"
   ]
  },
  {
   "cell_type": "markdown",
   "id": "96d0cf02",
   "metadata": {},
   "source": [
    "Likewise, a financial contract can be constructed by using a small set of rules:"
   ]
  },
  {
   "cell_type": "markdown",
   "id": "2041c78e",
   "metadata": {},
   "source": [
    "A contract is one of\n",
    "* zero (no rights or obligations)\n",
    "* one k (pay the holder one unit of currency k\n",
    "* give c: give all rights and obligations of contract q to another party\n",
    "* and c1, c2: obtain both c1 and c2\n",
    "* or: obtain c1 OR c2, but not both\n",
    "* scale N, contract: acquire N units of a contract\n",
    "* when date, contract: acquire contract at given date\n",
    "* condition cond, c1, c2: aquire c1 or c2 based on a boolean condition"
   ]
  },
  {
   "cell_type": "markdown",
   "id": "a35a50a8",
   "metadata": {},
   "source": [
    "The next notebook shows how you might do this in Python.\n",
    "\n",
    "Note the heavy use of algebraic data types. This is one language feature that's really missing from Python's core: you can think of the roughly as nestable enums."
   ]
  },
  {
   "cell_type": "code",
   "execution_count": 2,
   "id": "a3147785",
   "metadata": {},
   "outputs": [],
   "source": [
    "class A:\n",
    "    a:bool\n",
    "    b:bool\n",
    "    c:bool"
   ]
  },
  {
   "cell_type": "code",
   "execution_count": null,
   "id": "35e1ab81",
   "metadata": {},
   "outputs": [],
   "source": []
  },
  {
   "cell_type": "markdown",
   "id": "61c1a50c",
   "metadata": {},
   "source": [
    "bool = True | False"
   ]
  }
 ],
 "metadata": {
  "kernelspec": {
   "display_name": "contracts_and_smart_contracts-3cIAC8eA",
   "language": "python",
   "name": "python3"
  },
  "language_info": {
   "codemirror_mode": {
    "name": "ipython",
    "version": 3
   },
   "file_extension": ".py",
   "mimetype": "text/x-python",
   "name": "python",
   "nbconvert_exporter": "python",
   "pygments_lexer": "ipython3",
   "version": "3.9.16"
  },
  "vscode": {
   "interpreter": {
    "hash": "89249f5d6bd4a8dc85fe8e454fa41b66ea87ae4d368a3de9762db1b4b5d6ff1e"
   }
  }
 },
 "nbformat": 4,
 "nbformat_minor": 5
}
