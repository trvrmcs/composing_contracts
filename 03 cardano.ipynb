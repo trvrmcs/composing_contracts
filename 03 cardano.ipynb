{
 "cells": [
  {
   "cell_type": "markdown",
   "id": "recorded-acoustic",
   "metadata": {},
   "source": [
    "I spent a fair bit of time in early 2020 exploring these ideas; but I assumed they were mostly of academic interest, given there was very little discussion about them online and some of the original papers are only available on the Wayback machine\n",
    "\n",
    "However I learned this week that the scripting system in Cardano is completely based on these ideas:\n",
    "\n",
    "https://why.cardano.org/en/introduction/scripting/\n"
   ]
  },
  {
   "cell_type": "markdown",
   "id": "exempt-seattle",
   "metadata": {},
   "source": [
    "> Therefore, we have chosen to design a new language called Simon in honor of its creator Simon Thompson and the creator of the concepts that inspired it, Simon Peyton Jones. Simon is a domain-specific language that is based upon **Composing contracts: an adventure in financial engineering.**\n"
   ]
  },
  {
   "cell_type": "markdown",
   "id": "innovative-twins",
   "metadata": {},
   "source": [
    "> Marlowe is a domain-specific language, based on the financial contracts work of Peyton Jones, Eberd, and Seward.\n",
    "\n",
    "- https://www.curry-on.org/2019/sessions/plutus-and-marlowe.html\n"
   ]
  },
  {
   "cell_type": "markdown",
   "id": "pressed-volume",
   "metadata": {},
   "source": [
    "> Marlowe offers financial contracts for blockchain that everyone can code. It is a domain-specific language (DSL) for writing and executing financial contracts\n",
    "\n",
    "...\n",
    "\n",
    "> Marlowe is a small language, with a handful of different constructs that, for each contract, describe behaviour involving a fixed, finite set of roles. These roles are fulfilled by the contract participants.\n",
    "\n",
    "> Contracts can be built by putting together a small number of these constructs that in combination can be used to describe and model many different kinds of financial contracts. \n",
    "\n",
    "- https://docs.cardano.org/marlowe/learn-about-marlowe"
   ]
  },
  {
   "cell_type": "markdown",
   "id": "equivalent-vocabulary",
   "metadata": {},
   "source": [
    "# Examples:\n",
    "\n",
    "### Zero-coupon bond: \n",
    "\n",
    "#### Haskell:\n",
    "\n",
    "https://alpha.marlowe.iohkdev.io/#/haskell\n",
    "\n",
    "\n",
    "#### Blockly:\n",
    "https://alpha.marlowe.iohkdev.io/#/blockly"
   ]
  },
  {
   "cell_type": "code",
   "execution_count": null,
   "id": "related-angel",
   "metadata": {},
   "outputs": [],
   "source": []
  }
 ],
 "metadata": {
  "kernelspec": {
   "display_name": "Python 3",
   "language": "python",
   "name": "python3"
  },
  "language_info": {
   "codemirror_mode": {
    "name": "ipython",
    "version": 3
   },
   "file_extension": ".py",
   "mimetype": "text/x-python",
   "name": "python",
   "nbconvert_exporter": "python",
   "pygments_lexer": "ipython3",
   "version": "3.6.10"
  }
 },
 "nbformat": 4,
 "nbformat_minor": 5
}
