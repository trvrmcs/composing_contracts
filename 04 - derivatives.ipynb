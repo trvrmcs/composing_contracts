{
 "cells": [
  {
   "attachments": {},
   "cell_type": "markdown",
   "metadata": {},
   "source": [
    "# Derivatives"
   ]
  },
  {
   "attachments": {},
   "cell_type": "markdown",
   "metadata": {},
   "source": [
    "## "
   ]
  },
  {
   "cell_type": "code",
   "execution_count": 1,
   "metadata": {},
   "outputs": [],
   "source": [
    "import datetime as dt \n",
    "from datetime import date \n",
    "from contracts import * "
   ]
  },
  {
   "attachments": {},
   "cell_type": "markdown",
   "metadata": {},
   "source": [
    "### A zero-coupon bond:"
   ]
  },
  {
   "cell_type": "code",
   "execution_count": 4,
   "metadata": {},
   "outputs": [
    {
     "data": {
      "text/plain": [
       "WHEN(2024-02-28,SCALE(CONST(100),ONE(CAD)))"
      ]
     },
     "execution_count": 4,
     "metadata": {},
     "output_type": "execute_result"
    }
   ],
   "source": [
    "WHEN(\n",
    "    dt.date(2024,2,28),\n",
    "    SCALE(CONST(100), ONE(CAD))\n",
    ")"
   ]
  },
  {
   "attachments": {},
   "cell_type": "markdown",
   "metadata": {},
   "source": [
    "### A european call option."
   ]
  },
  {
   "cell_type": "code",
   "execution_count": 2,
   "metadata": {},
   "outputs": [],
   "source": [
    "\n",
    "option=WHEN(\n",
    "    dt.date(2023,7,1),                            # on the 1st of JULY, acquire the right\n",
    "    OR(                                           # to EITHER\n",
    "        ZERO(),                                   # do nothing, OR\n",
    "        AND(   \n",
    "            SCALE(CONST(1),ONE(BTC)) ,            # acquire 1 BTC\n",
    "            GIVE(                                 # for\n",
    "                SCALE(CONST(30000),ONE(CAD))      # $30,000 CAD\n",
    "            ),                                    \n",
    "            \n",
    "        )\n",
    "    )\n",
    ")"
   ]
  },
  {
   "cell_type": "code",
   "execution_count": 3,
   "metadata": {},
   "outputs": [
    {
     "data": {
      "text/plain": [
       "WHEN(2023-07-01,OR(ZERO(),AND(SCALE(CONST(1),ONE(BTC)),GIVE(SCALE(CONST(30000),ONE(CAD))))))"
      ]
     },
     "execution_count": 3,
     "metadata": {},
     "output_type": "execute_result"
    }
   ],
   "source": [
    "option"
   ]
  },
  {
   "attachments": {},
   "cell_type": "markdown",
   "metadata": {},
   "source": [
    "These are common instruments, so let's create some utility functions to create them:"
   ]
  },
  {
   "cell_type": "code",
   "execution_count": 4,
   "metadata": {},
   "outputs": [],
   "source": [
    "def spottrade(left_amount:Decimal, left:Asset, right_amount:Decimal, right:Asset)->Contract:\n",
    "    return AND(\n",
    "        SCALE(CONST(left_amount),ONE(left)),\n",
    "        GIVE(SCALE(CONST(right_amount),ONE(right)))\n",
    "    )\n",
    "\n",
    "def call(t:date, base:Asset, k:Decimal, quote:Asset)->Contract:\n",
    "    'at time t acquire the right to purchase 1 unit of base at price k'\n",
    "    return WHEN(\n",
    "        t,\n",
    "        OR(\n",
    "            ZERO(),\n",
    "            spottrade(1,base, k, quote)\n",
    "        )\n",
    "    )\n",
    "\n",
    "def put(t:date,base:Asset,k:Decimal,quote:Asset)->Contract:\n",
    "    'at time t acquire the right to sell 1 unit of base at price k'\n",
    "    return WHEN(\n",
    "        t,\n",
    "        OR(\n",
    "            ZERO(),\n",
    "            spottrade(k,quote, 1, base)\n",
    "        )\n",
    "    )\n",
    "\n",
    "def forward(t:date, contract:Contract)->Contract:\n",
    "    'acquire the obligation to execute contract at time t '\n",
    "    return WHEN(t,contract)\n"
   ]
  },
  {
   "attachments": {},
   "cell_type": "markdown",
   "metadata": {},
   "source": [
    "Agree to purchase 1 BTC @ 35,000 USD on December 31st."
   ]
  },
  {
   "cell_type": "code",
   "execution_count": 5,
   "metadata": {},
   "outputs": [
    {
     "data": {
      "text/plain": [
       "WHEN(2023-12-31,AND(SCALE(CONST(1),ONE(BTC)),GIVE(SCALE(CONST(35000),ONE(USD)))))"
      ]
     },
     "execution_count": 5,
     "metadata": {},
     "output_type": "execute_result"
    }
   ],
   "source": [
    "f= forward(dt.date(2023,12,31),spottrade(1,BTC,35000,USD))\n",
    "\n",
    "f"
   ]
  },
  {
   "attachments": {},
   "cell_type": "markdown",
   "metadata": {},
   "source": [
    "Acquire the right (but not the obligation!) to purchase 1 BTC @ 35,000 USD on December 31st"
   ]
  },
  {
   "cell_type": "code",
   "execution_count": 6,
   "metadata": {},
   "outputs": [
    {
     "data": {
      "text/plain": [
       "WHEN(2023-12-31,OR(ZERO(),AND(SCALE(CONST(1),ONE(BTC)),GIVE(SCALE(CONST(35000),ONE(USD))))))"
      ]
     },
     "execution_count": 6,
     "metadata": {},
     "output_type": "execute_result"
    }
   ],
   "source": [
    "call(dt.date(2023,12,31),BTC,35000,USD)"
   ]
  },
  {
   "attachments": {},
   "cell_type": "markdown",
   "metadata": {},
   "source": [
    "---\n",
    "\n",
    "### Principal Protected Notes (PPN) \n",
    "\n",
    "Armed with these primitives, we can construct more complex products to produce payoff structures tuned to our clients needs. \n",
    "\n",
    "A common example is a Principal Protected Note: an instrument that allows you to participate in some of the possible upside of an asset while purchasing protection from price drops."
   ]
  },
  {
   "attachments": {},
   "cell_type": "markdown",
   "metadata": {},
   "source": [
    "* maturity: June 1st \n",
    "* floor: 20k\n",
    "* Ceiling: 30k"
   ]
  },
  {
   "attachments": {},
   "cell_type": "markdown",
   "metadata": {},
   "source": [
    "We do this by constructing three separate contracts and combining them:\n",
    "\n",
    "We *buy* a forward contract on one unit of the underlying.\n",
    "We *buy* a put to give us downside protection .\n",
    "We *sell* a call with a higher strike price to make the overall instrument cheaper, at the cost of some upside participation.\n",
    "\n"
   ]
  },
  {
   "cell_type": "code",
   "execution_count": 7,
   "metadata": {},
   "outputs": [],
   "source": [
    "t = dt.date(2023,7,1)\n",
    "\n",
    "\n",
    "long_forward = WHEN(t, ONE(BTC))\n",
    "long_put=put(t,BTC,Decimal(\"20\"),USD)\n",
    "short_call=GIVE(call(t, BTC, Decimal(\"20\"), USD))\n",
    " "
   ]
  },
  {
   "attachments": {},
   "cell_type": "markdown",
   "metadata": {},
   "source": [
    "We then combine these into one contract:"
   ]
  },
  {
   "cell_type": "code",
   "execution_count": 8,
   "metadata": {},
   "outputs": [],
   "source": [
    "ppn = AND(\n",
    "    long_forward,\n",
    "    AND(\n",
    "        long_put, short_call\n",
    "    )\n",
    ")"
   ]
  },
  {
   "cell_type": "code",
   "execution_count": 9,
   "metadata": {},
   "outputs": [
    {
     "data": {
      "text/plain": [
       "AND(WHEN(2023-07-01,ONE(BTC)),AND(WHEN(2023-07-01,OR(ZERO(),AND(SCALE(CONST(20),ONE(USD)),GIVE(SCALE(CONST(1),ONE(BTC)))))),GIVE(WHEN(2023-07-01,OR(ZERO(),AND(SCALE(CONST(1),ONE(BTC)),GIVE(SCALE(CONST(20),ONE(USD)))))))))"
      ]
     },
     "execution_count": 9,
     "metadata": {},
     "output_type": "execute_result"
    }
   ],
   "source": [
    "ppn"
   ]
  },
  {
   "cell_type": "code",
   "execution_count": null,
   "metadata": {},
   "outputs": [],
   "source": []
  }
 ],
 "metadata": {
  "kernelspec": {
   "display_name": "composing_contracts-zxz9PY4D",
   "language": "python",
   "name": "python3"
  },
  "language_info": {
   "codemirror_mode": {
    "name": "ipython",
    "version": 3
   },
   "file_extension": ".py",
   "mimetype": "text/x-python",
   "name": "python",
   "nbconvert_exporter": "python",
   "pygments_lexer": "ipython3",
   "version": "3.9.5"
  },
  "orig_nbformat": 4
 },
 "nbformat": 4,
 "nbformat_minor": 2
}
